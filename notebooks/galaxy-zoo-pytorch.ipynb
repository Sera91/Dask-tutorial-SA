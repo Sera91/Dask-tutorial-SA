{
 "cells": [
  {
   "cell_type": "code",
   "execution_count": null,
   "metadata": {},
   "outputs": [],
   "source": [
    "import os\n",
    "from PIL import Image\n",
    "import cv2\n",
    "import pandas as pd\n",
    "import numpy as np\n",
    "import scipy\n",
    "import random\n",
    "import matplotlib.pyplot as plt\n",
    "import seaborn as sns\n",
    "from IPython.display import Javascript, display, Markdown, clear_output\n",
    "\n",
    "from sklearn.model_selection import train_test_split\n",
    "from sklearn.linear_model import LinearRegression\n",
    "\n",
    "import torch\n",
    "import torch.nn as nn\n",
    "import torch.nn.functional as F\n",
    "import torch.optim as optim\n",
    "\n",
    "\n",
    "!pip install Augmentor\n",
    "import Augmentor\n",
    "\n",
    "\n",
    "import pickle\n",
    "\n",
    "# Convenient Pickle wrappers \n",
    "def save(obj, file):\n",
    "    pickle.dump(obj, open(SAVE + file ,'wb')) # SAVE is global variable for directory \n",
    "\n",
    "def load(file):\n",
    "    return pickle.load(open(SAVE + file, 'rb'))\n",
    "\n",
    "def RMSE(pred, truth):\n",
    "    # Element-wise RMSE score. \n",
    "    return np.sqrt( np.mean( np.square( np.array(pred).flatten() - np.array(truth).flatten() )))\n",
    "\n",
    "RANDOM = 42\n",
    "random.seed(RANDOM)\n",
    "\n",
    "display(Markdown(\"# Markdown is working\"))"
   ]
  },
  {
   "cell_type": "markdown",
   "metadata": {},
   "source": []
  },
  {
   "cell_type": "code",
   "execution_count": null,
   "metadata": {},
   "outputs": [],
   "source": []
  }
 ],
 "metadata": {
  "language_info": {
   "name": "python"
  },
  "orig_nbformat": 4
 },
 "nbformat": 4,
 "nbformat_minor": 2
}
